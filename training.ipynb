{
 "cells": [
  {
   "cell_type": "markdown",
   "metadata": {},
   "source": [
    "# Инициализация необходимых библиотек"
   ]
  },
  {
   "cell_type": "code",
   "execution_count": 28,
   "metadata": {},
   "outputs": [],
   "source": [
    "from sklearn.feature_extraction.text import TfidfVectorizer\n",
    "from sklearn.multioutput import MultiOutputClassifier\n",
    "from sklearn.linear_model import LogisticRegression\n",
    "from sklearn.ensemble import RandomForestClassifier\n",
    "from sklearn.svm import LinearSVC\n",
    "from sklearn.metrics import roc_auc_score, f1_score\n",
    "from sklearn.multiclass import OneVsRestClassifier\n",
    "from skmultilearn.model_selection import iterative_train_test_split\n",
    "import numpy as np\n",
    "import pandas as pd\n",
    "import joblib\n",
    "from catboost import CatBoostClassifier"
   ]
  },
  {
   "cell_type": "code",
   "execution_count": 29,
   "metadata": {},
   "outputs": [
    {
     "name": "stdout",
     "output_type": "stream",
     "text": [
      "<class 'pandas.core.frame.DataFrame'>\n",
      "RangeIndex: 1812 entries, 0 to 1811\n",
      "Data columns (total 10 columns):\n",
      " #   Column                              Non-Null Count  Dtype  \n",
      "---  ------                              --------------  -----  \n",
      " 0   comment                             1812 non-null   object \n",
      " 1   id                                  1812 non-null   float64\n",
      " 2   rating                              1812 non-null   float64\n",
      " 3   Вопрос решен                        1812 non-null   int64  \n",
      " 4   Качество выполненной работы         1812 non-null   int64  \n",
      " 5   Компетентность работника в общение  1812 non-null   int64  \n",
      " 6   Не удовлетворен                     1812 non-null   int64  \n",
      " 7   Скорость выполненной работы         1812 non-null   int64  \n",
      " 8   Не понравился результат             1812 non-null   int64  \n",
      " 9   Не понравилось качество             1812 non-null   int64  \n",
      "dtypes: float64(2), int64(7), object(1)\n",
      "memory usage: 141.7+ KB\n"
     ]
    },
    {
     "data": {
      "text/plain": [
       "(                                        comment         id  rating  \\\n",
       " 0                                       спасибо  2945792.0     5.0   \n",
       " 1                                      спасибо!  3234340.0     5.0   \n",
       " 2                                      Отлично   3380332.0     5.0   \n",
       " 3  Благодарю за оперативное решение проблемы !   3381812.0     5.0   \n",
       " 4         Прекрасный специалист! Побольше таких  3461991.0     5.0   \n",
       " \n",
       "    Вопрос решен  Качество выполненной работы  \\\n",
       " 0             1                            0   \n",
       " 1             1                            0   \n",
       " 2             1                            0   \n",
       " 3             1                            0   \n",
       " 4             1                            1   \n",
       " \n",
       "    Компетентность работника в общение  Не удовлетворен  \\\n",
       " 0                                   0                0   \n",
       " 1                                   0                0   \n",
       " 2                                   0                0   \n",
       " 3                                   0                0   \n",
       " 4                                   0                0   \n",
       " \n",
       "    Скорость выполненной работы  Не понравился результат  \\\n",
       " 0                            0                        0   \n",
       " 1                            0                        0   \n",
       " 2                            0                        0   \n",
       " 3                            1                        0   \n",
       " 4                            0                        0   \n",
       " \n",
       "    Не понравилось качество  \n",
       " 0                        0  \n",
       " 1                        0  \n",
       " 2                        0  \n",
       " 3                        0  \n",
       " 4                        0  ,\n",
       " None)"
      ]
     },
     "execution_count": 29,
     "metadata": {},
     "output_type": "execute_result"
    }
   ],
   "source": [
    "# Загрузка данных\n",
    "df = pd.read_csv(\"data/Готовые данные.csv\")\n",
    "\n",
    "# Просмотр первых строк и структуры данных\n",
    "df.head(), df.info()"
   ]
  },
  {
   "cell_type": "markdown",
   "metadata": {},
   "source": [
    "# Загрузка данных для обучения модели"
   ]
  },
  {
   "cell_type": "code",
   "execution_count": 30,
   "metadata": {},
   "outputs": [
    {
     "name": "stdout",
     "output_type": "stream",
     "text": [
      "<class 'pandas.core.frame.DataFrame'>\n",
      "RangeIndex: 1812 entries, 0 to 1811\n",
      "Data columns (total 10 columns):\n",
      " #   Column                              Non-Null Count  Dtype  \n",
      "---  ------                              --------------  -----  \n",
      " 0   comment                             1812 non-null   object \n",
      " 1   id                                  1812 non-null   float64\n",
      " 2   rating                              1812 non-null   float64\n",
      " 3   Вопрос решен                        1812 non-null   int64  \n",
      " 4   Качество выполненной работы         1812 non-null   int64  \n",
      " 5   Компетентность работника в общение  1812 non-null   int64  \n",
      " 6   Не удовлетворен                     1812 non-null   int64  \n",
      " 7   Скорость выполненной работы         1812 non-null   int64  \n",
      " 8   Не понравился результат             1812 non-null   int64  \n",
      " 9   Не понравилось качество             1812 non-null   int64  \n",
      "dtypes: float64(2), int64(7), object(1)\n",
      "memory usage: 141.7+ KB\n"
     ]
    },
    {
     "data": {
      "text/plain": [
       "(                                        comment         id  rating  \\\n",
       " 0                                       спасибо  2945792.0     5.0   \n",
       " 1                                      спасибо!  3234340.0     5.0   \n",
       " 2                                      Отлично   3380332.0     5.0   \n",
       " 3  Благодарю за оперативное решение проблемы !   3381812.0     5.0   \n",
       " 4         Прекрасный специалист! Побольше таких  3461991.0     5.0   \n",
       " \n",
       "    Вопрос решен  Качество выполненной работы  \\\n",
       " 0             1                            0   \n",
       " 1             1                            0   \n",
       " 2             1                            0   \n",
       " 3             1                            0   \n",
       " 4             1                            1   \n",
       " \n",
       "    Компетентность работника в общение  Не удовлетворен  \\\n",
       " 0                                   0                0   \n",
       " 1                                   0                0   \n",
       " 2                                   0                0   \n",
       " 3                                   0                0   \n",
       " 4                                   0                0   \n",
       " \n",
       "    Скорость выполненной работы  Не понравился результат  \\\n",
       " 0                            0                        0   \n",
       " 1                            0                        0   \n",
       " 2                            0                        0   \n",
       " 3                            1                        0   \n",
       " 4                            0                        0   \n",
       " \n",
       "    Не понравилось качество  \n",
       " 0                        0  \n",
       " 1                        0  \n",
       " 2                        0  \n",
       " 3                        0  \n",
       " 4                        0  ,\n",
       " None)"
      ]
     },
     "execution_count": 30,
     "metadata": {},
     "output_type": "execute_result"
    }
   ],
   "source": [
    "# Загрузка данных\n",
    "df = pd.read_csv(\"data/Готовые данные.csv\")\n",
    "\n",
    "# Просмотр первых строк и структуры данных\n",
    "df.head(), df.info()"
   ]
  },
  {
   "cell_type": "markdown",
   "metadata": {},
   "source": [
    "### Разделение данных для обучения моделей"
   ]
  },
  {
   "cell_type": "code",
   "execution_count": 31,
   "metadata": {},
   "outputs": [],
   "source": [
    "X_raw = df[\"comment\"]\n",
    "y = df.iloc[:, 3:]\n",
    "\n",
    "# Удалим пустые строки и строки без меток\n",
    "mask = X_raw.notnull() & (X_raw.str.strip() != \"\")\n",
    "X_raw = X_raw[mask]\n",
    "y = y[mask]\n",
    "row_mask = y.sum(axis=1) > 0\n",
    "X_raw = X_raw[row_mask]\n",
    "y = y[row_mask]\n",
    "\n",
    "# Векторизация текста\n",
    "vectorizer = TfidfVectorizer(max_features=10000)\n",
    "X = vectorizer.fit_transform(X_raw)\n",
    "X = X.toarray()\n",
    "y_array = y.values.astype(int)\n",
    "\n",
    "# Стратифицированное разбиение (70% train, 30% test)\n",
    "X_train, y_train, X_test, y_test = iterative_train_test_split(\n",
    "    X, y_array, test_size=0.3\n",
    ")\n",
    "\n",
    "# Преобразуем обратно в DataFrame, если нужно\n",
    "X_train_raw = X_raw.iloc[np.ravel(np.where(np.isin(X, X_train).all(axis=1)))].reset_index(drop=True)\n",
    "X_test_raw = X_raw.iloc[np.ravel(np.where(np.isin(X, X_test).all(axis=1)))].reset_index(drop=True)"
   ]
  },
  {
   "cell_type": "markdown",
   "metadata": {},
   "source": [
    "### Logistic Regression"
   ]
  },
  {
   "cell_type": "code",
   "execution_count": null,
   "metadata": {},
   "outputs": [
    {
     "name": "stdout",
     "output_type": "stream",
     "text": [
      "\n",
      "=== Logistic Regression ===\n",
      "Label                                       ROC-AUC         F1\n",
      "-----------------------------------------------------------------\n",
      "Вопрос решен                                  0.855      0.953\n",
      "Качество выполненной работы                   0.680      0.495\n",
      "Компетентность работника в общение            0.746      0.559\n",
      "Не удовлетворен                               0.866      0.671\n",
      "Скорость выполненной работы                   0.900      0.886\n",
      "Не понравился результат                       0.754      0.419\n",
      "Не понравилось качество                       0.801      0.567\n",
      "-----------------------------------------------------------------\n",
      "Average ROC-AUC / F1                          0.800      0.650\n"
     ]
    },
    {
     "data": {
      "text/plain": [
       "['model/logistic_model.pkl']"
      ]
     },
     "execution_count": 32,
     "metadata": {},
     "output_type": "execute_result"
    }
   ],
   "source": [
    "model = MultiOutputClassifier(LogisticRegression(max_iter=2000, class_weight='balanced'))\n",
    "model.fit(X_train, y_train)\n",
    "\n",
    "# Предсказания\n",
    "y_pred = model.predict(X_test)\n",
    "\n",
    "print(\"\\nLogistic Regression\")\n",
    "print(\"{:<40} {:>10} {:>10}\".format(\"Label\", \"ROC-AUC\", \"F1\"))\n",
    "print(\"-\" * 65)\n",
    "roc_auc_values = []\n",
    "f1_values = []\n",
    "\n",
    "for i, col in enumerate(y.columns):\n",
    "    try:\n",
    "        auc = roc_auc_score(y_test[:, i], y_pred[:, i])\n",
    "        f1 = f1_score(y_test[:, i], y_pred[:, i])\n",
    "        print(f\"{col:<40} {auc:>10.3f} {f1:>10.3f}\")\n",
    "        roc_auc_values.append(auc)\n",
    "        f1_values.append(f1)\n",
    "    except Exception as e:\n",
    "        print(f\"{col:<40} {'error':>10} {'error':>10} - {str(e)}\")\n",
    "\n",
    "if roc_auc_values:\n",
    "    avg_roc_auc = np.mean(roc_auc_values)\n",
    "    avg_f1 = np.mean(f1_values)\n",
    "    print(\"-\" * 65)\n",
    "    print(f\"{'Average ROC-AUC / F1':<40} {avg_roc_auc:>10.3f} {avg_f1:>10.3f}\")\n",
    "\n",
    "joblib.dump(model, \"model/logistic_model.pkl\")"
   ]
  },
  {
   "cell_type": "markdown",
   "metadata": {},
   "source": [
    "### Random Forest"
   ]
  },
  {
   "cell_type": "code",
   "execution_count": null,
   "metadata": {},
   "outputs": [
    {
     "name": "stdout",
     "output_type": "stream",
     "text": [
      "\n",
      "=== Random Forest ===\n",
      "Label                                       ROC-AUC         F1\n",
      "-----------------------------------------------------------------\n",
      "Вопрос решен                                  0.563      0.952\n",
      "Качество выполненной работы                   0.656      0.470\n",
      "Компетентность работника в общение            0.563      0.225\n",
      "Не удовлетворен                               0.602      0.333\n",
      "Скорость выполненной работы                   0.915      0.903\n",
      "Не понравился результат                       0.516      0.062\n",
      "Не понравилось качество                       0.519      0.073\n",
      "-----------------------------------------------------------------\n",
      "Average ROC-AUC / F1                          0.619      0.431\n"
     ]
    },
    {
     "data": {
      "text/plain": [
       "['model/random_forest_model.pkl']"
      ]
     },
     "execution_count": 33,
     "metadata": {},
     "output_type": "execute_result"
    }
   ],
   "source": [
    "rf_model = MultiOutputClassifier(RandomForestClassifier(n_estimators=1000, random_state=42))\n",
    "rf_model.fit(X_train, y_train)\n",
    "y_pred_rf = rf_model.predict(X_test)\n",
    "\n",
    "print(\"\\nRandom Forest\")\n",
    "print(\"{:<40} {:>10} {:>10}\".format(\"Label\", \"ROC-AUC\", \"F1\"))\n",
    "print(\"-\" * 65)\n",
    "roc_auc_values_rf = []\n",
    "f1_values_rf = []\n",
    "\n",
    "for i, col in enumerate(y.columns):\n",
    "    try:\n",
    "        auc = roc_auc_score(y_test[:, i], y_pred_rf[:, i])\n",
    "        f1 = f1_score(y_test[:, i], y_pred_rf[:, i])\n",
    "        print(f\"{col:<40} {auc:>10.3f} {f1:>10.3f}\")\n",
    "        roc_auc_values_rf.append(auc)\n",
    "        f1_values_rf.append(f1)\n",
    "    except Exception as e:\n",
    "        print(f\"{col:<40} {'error':>10} {'error':>10} - {str(e)}\")\n",
    "\n",
    "if roc_auc_values_rf:\n",
    "    avg_roc_auc_rf = np.mean(roc_auc_values_rf)\n",
    "    avg_f1_rf = np.mean(f1_values_rf)\n",
    "    print(\"-\" * 65)\n",
    "    print(f\"{'Average ROC-AUC / F1':<40} {avg_roc_auc_rf:>10.3f} {avg_f1_rf:>10.3f}\")\n",
    "\n",
    "joblib.dump(rf_model, \"model/random_forest_model.pkl\")"
   ]
  },
  {
   "cell_type": "markdown",
   "metadata": {},
   "source": [
    "### Linear SVC"
   ]
  },
  {
   "cell_type": "code",
   "execution_count": null,
   "metadata": {},
   "outputs": [
    {
     "name": "stdout",
     "output_type": "stream",
     "text": [
      "\n",
      "=== Linear SVC ===\n",
      "Label                                       ROC-AUC         F1\n",
      "-----------------------------------------------------------------\n",
      "Вопрос решен                                  0.590      0.954\n",
      "Качество выполненной работы                   0.681      0.526\n",
      "Компетентность работника в общение            0.661      0.476\n",
      "Не удовлетворен                               0.620      0.370\n",
      "Скорость выполненной работы                   0.903      0.890\n",
      "Не понравился результат                       0.545      0.162\n",
      "Не понравилось качество                       0.570      0.242\n",
      "-----------------------------------------------------------------\n",
      "Average ROC-AUC / F1                          0.653      0.517\n"
     ]
    },
    {
     "data": {
      "text/plain": [
       "['model/linear_svc_model.pkl']"
      ]
     },
     "execution_count": 34,
     "metadata": {},
     "output_type": "execute_result"
    }
   ],
   "source": [
    "svc_model = OneVsRestClassifier(LinearSVC(max_iter=10000))\n",
    "svc_model.fit(X_train, y_train)\n",
    "y_pred_svc = svc_model.predict(X_test)\n",
    "\n",
    "print(\"\\nLinear SVC\")\n",
    "print(\"{:<40} {:>10} {:>10}\".format(\"Label\", \"ROC-AUC\", \"F1\"))\n",
    "print(\"-\" * 65)\n",
    "roc_auc_values_svc = []\n",
    "f1_values_svc = []\n",
    "\n",
    "for i, col in enumerate(y.columns):\n",
    "    try:\n",
    "        auc = roc_auc_score(y_test[:, i], y_pred_svc[:, i])\n",
    "        f1 = f1_score(y_test[:, i], y_pred_svc[:, i])\n",
    "        print(f\"{col:<40} {auc:>10.3f} {f1:>10.3f}\")\n",
    "        roc_auc_values_svc.append(auc)\n",
    "        f1_values_svc.append(f1)\n",
    "    except Exception as e:\n",
    "        print(f\"{col:<40} {'error':>10} {'error':>10} - {str(e)}\")\n",
    "\n",
    "if roc_auc_values_svc:\n",
    "    avg_roc_auc_svc = np.mean(roc_auc_values_svc)\n",
    "    avg_f1_svc = np.mean(f1_values_svc)\n",
    "    print(\"-\" * 65)\n",
    "    print(f\"{'Average ROC-AUC / F1':<40} {avg_roc_auc_svc:>10.3f} {avg_f1_svc:>10.3f}\")\n",
    "\n",
    "joblib.dump(svc_model, \"model/linear_svc_model.pkl\")"
   ]
  },
  {
   "cell_type": "markdown",
   "metadata": {},
   "source": [
    "### CatBoost"
   ]
  },
  {
   "cell_type": "code",
   "execution_count": null,
   "metadata": {},
   "outputs": [
    {
     "name": "stdout",
     "output_type": "stream",
     "text": [
      "\n",
      "=== CatBoostClassifier (MultiOutput) ===\n",
      "Label                                       ROC-AUC         F1\n",
      "-----------------------------------------------------------------\n",
      "Вопрос решен                                  0.788      0.961\n",
      "Качество выполненной работы                   0.683      0.503\n",
      "Компетентность работника в общение            0.709      0.540\n",
      "Не удовлетворен                               0.750      0.567\n",
      "Скорость выполненной работы                   0.927      0.916\n",
      "Не понравился результат                       0.683      0.366\n",
      "Не понравилось качество                       0.737      0.519\n",
      "-----------------------------------------------------------------\n",
      "Average ROC-AUC / F1                          0.754      0.625\n"
     ]
    },
    {
     "data": {
      "text/plain": [
       "['model/catboost_model.pkl']"
      ]
     },
     "execution_count": 35,
     "metadata": {},
     "output_type": "execute_result"
    }
   ],
   "source": [
    "# Настройка базовой модели CatBoost\n",
    "base_model = CatBoostClassifier(\n",
    "    iterations=2000,\n",
    "    learning_rate=0.1,\n",
    "    depth=6,\n",
    "    auto_class_weights='Balanced',  # Для борьбы с дисбалансом\n",
    "    verbose=0\n",
    ")\n",
    "\n",
    "# Обёртка для многоклассовой многолейбл задачи\n",
    "model = MultiOutputClassifier(base_model)\n",
    "\n",
    "# Обучение\n",
    "model.fit(X_train, y_train)\n",
    "\n",
    "# Предсказания\n",
    "y_pred = model.predict(X_test)\n",
    "\n",
    "# Оценка\n",
    "print(\"\\nCatBoostClassifier\")\n",
    "print(\"{:<40} {:>10} {:>10}\".format(\"Label\", \"ROC-AUC\", \"F1\"))\n",
    "print(\"-\" * 65)\n",
    "roc_auc_values = []\n",
    "f1_values = []\n",
    "\n",
    "for i, col in enumerate(y.columns):\n",
    "    try:\n",
    "        auc = roc_auc_score(y_test[:, i], y_pred[:, i])\n",
    "        f1 = f1_score(y_test[:, i], y_pred[:, i])\n",
    "        print(f\"{col:<40} {auc:>10.3f} {f1:>10.3f}\")\n",
    "        roc_auc_values.append(auc)\n",
    "        f1_values.append(f1)\n",
    "    except Exception as e:\n",
    "        print(f\"{col:<40} {'error':>10} {'error':>10} - {str(e)}\")\n",
    "\n",
    "if roc_auc_values:\n",
    "    avg_roc_auc = np.mean(roc_auc_values)\n",
    "    avg_f1 = np.mean(f1_values)\n",
    "    print(\"-\" * 65)\n",
    "    print(f\"{'Average ROC-AUC / F1':<40} {avg_roc_auc:>10.3f} {avg_f1:>10.3f}\")\n",
    "\n",
    "# Сохранение модели\n",
    "joblib.dump(model, \"model/catboost_model.pkl\")"
   ]
  }
 ],
 "metadata": {
  "kernelspec": {
   "display_name": "Python 3",
   "language": "python",
   "name": "python3"
  },
  "language_info": {
   "codemirror_mode": {
    "name": "ipython",
    "version": 3
   },
   "file_extension": ".py",
   "mimetype": "text/x-python",
   "name": "python",
   "nbconvert_exporter": "python",
   "pygments_lexer": "ipython3",
   "version": "3.12.0"
  }
 },
 "nbformat": 4,
 "nbformat_minor": 2
}
