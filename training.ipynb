{
 "cells": [
  {
   "cell_type": "markdown",
   "metadata": {},
   "source": [
    "# Инициализация необходимых библиотек"
   ]
  },
  {
   "cell_type": "code",
   "execution_count": 127,
   "metadata": {},
   "outputs": [],
   "source": [
    "from sklearn.feature_extraction.text import TfidfVectorizer\n",
    "from sklearn.multioutput import MultiOutputClassifier\n",
    "from sklearn.linear_model import LogisticRegression\n",
    "from sklearn.ensemble import RandomForestClassifier\n",
    "from sklearn.svm import LinearSVC\n",
    "from sklearn.metrics import roc_auc_score, f1_score\n",
    "from sklearn.multiclass import OneVsRestClassifier\n",
    "import numpy as np\n",
    "import pandas as pd\n",
    "import joblib"
   ]
  },
  {
   "cell_type": "markdown",
   "metadata": {},
   "source": [
    "# Загрузка данных для обучения модели"
   ]
  },
  {
   "cell_type": "code",
   "execution_count": 128,
   "metadata": {},
   "outputs": [
    {
     "name": "stdout",
     "output_type": "stream",
     "text": [
      "<class 'pandas.core.frame.DataFrame'>\n",
      "RangeIndex: 1812 entries, 0 to 1811\n",
      "Data columns (total 10 columns):\n",
      " #   Column                              Non-Null Count  Dtype  \n",
      "---  ------                              --------------  -----  \n",
      " 0   comment                             1812 non-null   object \n",
      " 1   id                                  1812 non-null   float64\n",
      " 2   rating                              1812 non-null   float64\n",
      " 3   Вопрос решен                        1812 non-null   int64  \n",
      " 4   Качество выполненной работы         1812 non-null   int64  \n",
      " 5   Компетентность работника в общение  1812 non-null   int64  \n",
      " 6   Не удовлетворен                     1812 non-null   int64  \n",
      " 7   Скорость выполненной работы         1812 non-null   int64  \n",
      " 8   Не понравился результат             1812 non-null   int64  \n",
      " 9   Не понравилось качество             1812 non-null   int64  \n",
      "dtypes: float64(2), int64(7), object(1)\n",
      "memory usage: 141.7+ KB\n"
     ]
    },
    {
     "data": {
      "text/plain": [
       "(                                        comment         id  rating  \\\n",
       " 0                                       спасибо  2945792.0     5.0   \n",
       " 1                                      спасибо!  3234340.0     5.0   \n",
       " 2                                      Отлично   3380332.0     5.0   \n",
       " 3  Благодарю за оперативное решение проблемы !   3381812.0     5.0   \n",
       " 4         Прекрасный специалист! Побольше таких  3461991.0     5.0   \n",
       " \n",
       "    Вопрос решен  Качество выполненной работы  \\\n",
       " 0             1                            0   \n",
       " 1             1                            0   \n",
       " 2             1                            0   \n",
       " 3             1                            0   \n",
       " 4             1                            1   \n",
       " \n",
       "    Компетентность работника в общение  Не удовлетворен  \\\n",
       " 0                                   0                0   \n",
       " 1                                   0                0   \n",
       " 2                                   0                0   \n",
       " 3                                   0                0   \n",
       " 4                                   0                0   \n",
       " \n",
       "    Скорость выполненной работы  Не понравился результат  \\\n",
       " 0                            0                        0   \n",
       " 1                            0                        0   \n",
       " 2                            0                        0   \n",
       " 3                            1                        0   \n",
       " 4                            0                        0   \n",
       " \n",
       "    Не понравилось качество  \n",
       " 0                        0  \n",
       " 1                        0  \n",
       " 2                        0  \n",
       " 3                        0  \n",
       " 4                        0  ,\n",
       " None)"
      ]
     },
     "execution_count": 128,
     "metadata": {},
     "output_type": "execute_result"
    }
   ],
   "source": [
    "# Загрузка данных\n",
    "df = pd.read_csv(\"Готовые данные.csv\")\n",
    "\n",
    "# Просмотр первых строк и структуры данных\n",
    "df.head(), df.info()"
   ]
  },
  {
   "cell_type": "markdown",
   "metadata": {},
   "source": [
    "### Разделение данных для обучения моделей"
   ]
  },
  {
   "cell_type": "code",
   "execution_count": 129,
   "metadata": {},
   "outputs": [],
   "source": [
    "X_raw = df[\"comment\"]\n",
    "y = df.iloc[:, 3:]\n",
    "\n",
    "# Удалим пустые строки и строки без меток\n",
    "mask = X_raw.notnull() & (X_raw.str.strip() != \"\")\n",
    "X_raw = X_raw[mask]\n",
    "y = y[mask]\n",
    "row_mask = y.sum(axis=1) > 0\n",
    "X_raw = X_raw[row_mask]\n",
    "y = y[row_mask]\n",
    "\n",
    "# Векторизация текста\n",
    "vectorizer = TfidfVectorizer(max_features=10000)\n",
    "X = vectorizer.fit_transform(X_raw)\n",
    "X = X.toarray()  # сразу в массив для совместимости с Keras и др.\n",
    "\n",
    "# Стратифицированное разбиение по каждому классу\n",
    "train_indices = set()\n",
    "test_indices = set()\n",
    "\n",
    "for col in y.columns:\n",
    "    pos_indices = y[y[col] == 1].index.tolist()\n",
    "    np.random.shuffle(pos_indices)\n",
    "    n_train = int(0.7 * len(pos_indices))\n",
    "    train_indices.update(pos_indices[:n_train])\n",
    "    test_indices.update(pos_indices[n_train:])\n",
    "\n",
    "# Приводим к спискам и убираем пересечения (если важно)\n",
    "train_indices = list(train_indices)\n",
    "test_indices = list(set(test_indices) - set(train_indices))\n",
    "\n",
    "# Финальные выборки\n",
    "X_train, X_test = X[train_indices], X[test_indices]\n",
    "y_train, y_test = y.iloc[train_indices].values, y.iloc[test_indices].values"
   ]
  },
  {
   "cell_type": "markdown",
   "metadata": {},
   "source": [
    "### Logistic Regression"
   ]
  },
  {
   "cell_type": "code",
   "execution_count": 130,
   "metadata": {},
   "outputs": [
    {
     "name": "stdout",
     "output_type": "stream",
     "text": [
      "\n",
      "=== Logistic Regression ===\n",
      "Label                                       ROC-AUC         F1\n",
      "-----------------------------------------------------------------\n",
      "Вопрос решен                                  0.565      0.947\n",
      "Качество выполненной работы                   0.628      0.385\n",
      "Компетентность работника в общение            0.581      0.267\n",
      "Не удовлетворен                               0.576      0.263\n",
      "Скорость выполненной работы                   0.900      0.857\n",
      "Не понравился результат                       0.500      0.000\n",
      "Не понравилось качество                       0.623      0.364\n",
      "-----------------------------------------------------------------\n",
      "Average ROC-AUC / F1                          0.625      0.440\n"
     ]
    },
    {
     "data": {
      "text/plain": [
       "['logistic_model.pkl']"
      ]
     },
     "execution_count": 130,
     "metadata": {},
     "output_type": "execute_result"
    }
   ],
   "source": [
    "model = MultiOutputClassifier(LogisticRegression(max_iter=2000))\n",
    "model.fit(X_train, y_train)\n",
    "\n",
    "# Предсказания\n",
    "y_pred = model.predict(X_test)\n",
    "\n",
    "print(\"\\n=== Logistic Regression ===\")\n",
    "print(\"{:<40} {:>10} {:>10}\".format(\"Label\", \"ROC-AUC\", \"F1\"))\n",
    "print(\"-\" * 65)\n",
    "roc_auc_values = []\n",
    "f1_values = []\n",
    "\n",
    "for i, col in enumerate(y.columns):\n",
    "    try:\n",
    "        auc = roc_auc_score(y_test[:, i], y_pred[:, i])\n",
    "        f1 = f1_score(y_test[:, i], y_pred[:, i])\n",
    "        print(f\"{col:<40} {auc:>10.3f} {f1:>10.3f}\")\n",
    "        roc_auc_values.append(auc)\n",
    "        f1_values.append(f1)\n",
    "    except Exception as e:\n",
    "        print(f\"{col:<40} {'error':>10} {'error':>10} - {str(e)}\")\n",
    "\n",
    "if roc_auc_values:\n",
    "    avg_roc_auc = np.mean(roc_auc_values)\n",
    "    avg_f1 = np.mean(f1_values)\n",
    "    print(\"-\" * 65)\n",
    "    print(f\"{'Average ROC-AUC / F1':<40} {avg_roc_auc:>10.3f} {avg_f1:>10.3f}\")\n",
    "\n",
    "joblib.dump(model, \"logistic_model.pkl\")"
   ]
  },
  {
   "cell_type": "markdown",
   "metadata": {},
   "source": [
    "### Random Forest"
   ]
  },
  {
   "cell_type": "code",
   "execution_count": 131,
   "metadata": {},
   "outputs": [
    {
     "name": "stdout",
     "output_type": "stream",
     "text": [
      "\n",
      "=== Random Forest ===\n",
      "Label                                       ROC-AUC         F1\n",
      "-----------------------------------------------------------------\n",
      "Вопрос решен                                  0.608      0.946\n",
      "Качество выполненной работы                   0.642      0.364\n",
      "Компетентность работника в общение            0.659      0.400\n",
      "Не удовлетворен                               0.615      0.356\n",
      "Скорость выполненной работы                   0.915      0.870\n",
      "Не понравился результат                       0.500      0.000\n",
      "Не понравилось качество                       0.623      0.364\n",
      "-----------------------------------------------------------------\n",
      "Average ROC-AUC / F1                          0.652      0.471\n"
     ]
    },
    {
     "data": {
      "text/plain": [
       "['random_forest_model.pkl']"
      ]
     },
     "execution_count": 131,
     "metadata": {},
     "output_type": "execute_result"
    }
   ],
   "source": [
    "rf_model = MultiOutputClassifier(RandomForestClassifier(n_estimators=1000, random_state=42))\n",
    "rf_model.fit(X_train, y_train)\n",
    "y_pred_rf = rf_model.predict(X_test)\n",
    "\n",
    "print(\"\\n=== Random Forest ===\")\n",
    "print(\"{:<40} {:>10} {:>10}\".format(\"Label\", \"ROC-AUC\", \"F1\"))\n",
    "print(\"-\" * 65)\n",
    "roc_auc_values_rf = []\n",
    "f1_values_rf = []\n",
    "\n",
    "for i, col in enumerate(y.columns):\n",
    "    try:\n",
    "        auc = roc_auc_score(y_test[:, i], y_pred_rf[:, i])\n",
    "        f1 = f1_score(y_test[:, i], y_pred_rf[:, i])\n",
    "        print(f\"{col:<40} {auc:>10.3f} {f1:>10.3f}\")\n",
    "        roc_auc_values_rf.append(auc)\n",
    "        f1_values_rf.append(f1)\n",
    "    except Exception as e:\n",
    "        print(f\"{col:<40} {'error':>10} {'error':>10} - {str(e)}\")\n",
    "\n",
    "if roc_auc_values_rf:\n",
    "    avg_roc_auc_rf = np.mean(roc_auc_values_rf)\n",
    "    avg_f1_rf = np.mean(f1_values_rf)\n",
    "    print(\"-\" * 65)\n",
    "    print(f\"{'Average ROC-AUC / F1':<40} {avg_roc_auc_rf:>10.3f} {avg_f1_rf:>10.3f}\")\n",
    "\n",
    "joblib.dump(rf_model, \"random_forest_model.pkl\")"
   ]
  },
  {
   "cell_type": "markdown",
   "metadata": {},
   "source": [
    "### Linear SVC"
   ]
  },
  {
   "cell_type": "code",
   "execution_count": 132,
   "metadata": {},
   "outputs": [
    {
     "name": "stdout",
     "output_type": "stream",
     "text": [
      "\n",
      "=== Linear SVC ===\n",
      "Label                                       ROC-AUC         F1\n",
      "-----------------------------------------------------------------\n",
      "Вопрос решен                                  0.642      0.950\n",
      "Качество выполненной работы                   0.632      0.316\n",
      "Компетентность работника в общение            0.735      0.462\n",
      "Не удовлетворен                               0.659      0.449\n",
      "Скорость выполненной работы                   0.915      0.870\n",
      "Не понравился результат                       0.557      0.167\n",
      "Не понравилось качество                       0.735      0.400\n",
      "-----------------------------------------------------------------\n",
      "Average ROC-AUC / F1                          0.696      0.516\n"
     ]
    },
    {
     "data": {
      "text/plain": [
       "['linear_svc_model.pkl']"
      ]
     },
     "execution_count": 132,
     "metadata": {},
     "output_type": "execute_result"
    }
   ],
   "source": [
    "svc_model = OneVsRestClassifier(LinearSVC(max_iter=10000))\n",
    "svc_model.fit(X_train, y_train)\n",
    "y_pred_svc = svc_model.predict(X_test)\n",
    "\n",
    "print(\"\\n=== Linear SVC ===\")\n",
    "print(\"{:<40} {:>10} {:>10}\".format(\"Label\", \"ROC-AUC\", \"F1\"))\n",
    "print(\"-\" * 65)\n",
    "roc_auc_values_svc = []\n",
    "f1_values_svc = []\n",
    "\n",
    "for i, col in enumerate(y.columns):\n",
    "    try:\n",
    "        auc = roc_auc_score(y_test[:, i], y_pred_svc[:, i])\n",
    "        f1 = f1_score(y_test[:, i], y_pred_svc[:, i])\n",
    "        print(f\"{col:<40} {auc:>10.3f} {f1:>10.3f}\")\n",
    "        roc_auc_values_svc.append(auc)\n",
    "        f1_values_svc.append(f1)\n",
    "    except Exception as e:\n",
    "        print(f\"{col:<40} {'error':>10} {'error':>10} - {str(e)}\")\n",
    "\n",
    "if roc_auc_values_svc:\n",
    "    avg_roc_auc_svc = np.mean(roc_auc_values_svc)\n",
    "    avg_f1_svc = np.mean(f1_values_svc)\n",
    "    print(\"-\" * 65)\n",
    "    print(f\"{'Average ROC-AUC / F1':<40} {avg_roc_auc_svc:>10.3f} {avg_f1_svc:>10.3f}\")\n",
    "\n",
    "joblib.dump(svc_model, \"linear_svc_model.pkl\")"
   ]
  }
 ],
 "metadata": {
  "kernelspec": {
   "display_name": "base",
   "language": "python",
   "name": "python3"
  },
  "language_info": {
   "codemirror_mode": {
    "name": "ipython",
    "version": 3
   },
   "file_extension": ".py",
   "mimetype": "text/x-python",
   "name": "python",
   "nbconvert_exporter": "python",
   "pygments_lexer": "ipython3",
   "version": "3.12.0"
  }
 },
 "nbformat": 4,
 "nbformat_minor": 2
}
